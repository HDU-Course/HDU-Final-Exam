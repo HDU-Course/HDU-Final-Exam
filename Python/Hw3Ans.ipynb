{
 "cells": [
  {
   "cell_type": "markdown",
   "metadata": {},
   "source": [
    "# 作业3\n",
    "要求: \n",
    "    1. 尽量自己独立完成，如不懂可以问同学和老师，但是所有的代码都要自己输入，看懂，亲自运行\n",
    "    2. 注意作业的截止时间，要在截止时间前提交\n",
    "    3. 作业提交只需提交对应的ipynb后缀的文件\n",
    "题目："
   ]
  },
  {
   "cell_type": "markdown",
   "metadata": {},
   "source": [
    "#### 一、掷骰子，猜大小游戏"
   ]
  },
  {
   "cell_type": "markdown",
   "metadata": {},
   "source": [
    "##### 1.第一步，完成骰点list的生成\n",
    "下面是骰子的模版定义，分析其特征，利用str.split函数：\n",
    "* 先用换行('\\n')分隔符拆分为行，组成list\n",
    "* 再用换行('，')分隔符拆分每个骰点(1~6)的部分\n",
    "* 将每个骰点(1~6)的部分拼接，形成每个骰点的list"
   ]
  },
  {
   "cell_type": "code",
   "execution_count": 1,
   "metadata": {
    "collapsed": true
   },
   "outputs": [],
   "source": [
    "dice_tpl= '''\\\n",
    "┌───┐,┌───┐,┌───┐,┌───┐,┌───┐,┌───┐\n",
    "│      │,│  ●  │,│●    │,│●  ●│,│●  ●│,│●  ●│\n",
    "│  ●  │,│      │,│  ●  │,│      │,│  ●  │,│●  ●│\n",
    "│      │,│  ●  │,│    ●│,│●  ●│,│●  ●│,│●  ●│\n",
    "└───┘,└───┘,└───┘,└───┘,└───┘,└───┘'''"
   ]
  },
  {
   "cell_type": "code",
   "execution_count": 2,
   "metadata": {
    "collapsed": false
   },
   "outputs": [
    {
     "name": "stdout",
     "output_type": "stream",
     "text": [
      "┌───┐,┌───┐,┌───┐,┌───┐,┌───┐,┌───┐\n",
      "│      │,│  ●  │,│●    │,│●  ●│,│●  ●│,│●  ●│\n",
      "│  ●  │,│      │,│  ●  │,│      │,│  ●  │,│●  ●│\n",
      "│      │,│  ●  │,│    ●│,│●  ●│,│●  ●│,│●  ●│\n",
      "└───┘,└───┘,└───┘,└───┘,└───┘,└───┘\n"
     ]
    }
   ],
   "source": [
    "print(dice_tpl)"
   ]
  },
  {
   "cell_type": "code",
   "execution_count": 3,
   "metadata": {
    "collapsed": false
   },
   "outputs": [],
   "source": [
    "dice_lines = dice_tpl.split('\\n')"
   ]
  },
  {
   "cell_type": "code",
   "execution_count": 4,
   "metadata": {
    "collapsed": false,
    "scrolled": true
   },
   "outputs": [
    {
     "data": {
      "text/plain": [
       "['┌───┐,┌───┐,┌───┐,┌───┐,┌───┐,┌───┐',\n",
       " '│      │,│  ●  │,│●    │,│●  ●│,│●  ●│,│●  ●│',\n",
       " '│  ●  │,│      │,│  ●  │,│      │,│  ●  │,│●  ●│',\n",
       " '│      │,│  ●  │,│    ●│,│●  ●│,│●  ●│,│●  ●│',\n",
       " '└───┘,└───┘,└───┘,└───┘,└───┘,└───┘']"
      ]
     },
     "execution_count": 4,
     "metadata": {},
     "output_type": "execute_result"
    }
   ],
   "source": [
    "dice_lines"
   ]
  },
  {
   "cell_type": "markdown",
   "metadata": {},
   "source": [
    "#### 方法1"
   ]
  },
  {
   "cell_type": "code",
   "execution_count": 27,
   "metadata": {
    "collapsed": false
   },
   "outputs": [],
   "source": [
    "#补充完整下面的代码\n",
    "dice = ['','','','','','']\n",
    "for j in range(6):\n",
    "    for i in range(5):\n",
    "        dice[j] +=  dice_lines[i].split(',')[j] + '\\n'"
   ]
  },
  {
   "cell_type": "code",
   "execution_count": 28,
   "metadata": {
    "collapsed": false,
    "scrolled": false
   },
   "outputs": [
    {
     "name": "stdout",
     "output_type": "stream",
     "text": [
      "┌───┐\n",
      "│      │\n",
      "│  ●  │\n",
      "│      │\n",
      "└───┘\n",
      "\n",
      "┌───┐\n",
      "│  ●  │\n",
      "│      │\n",
      "│  ●  │\n",
      "└───┘\n",
      "\n",
      "┌───┐\n",
      "│●    │\n",
      "│  ●  │\n",
      "│    ●│\n",
      "└───┘\n",
      "\n",
      "┌───┐\n",
      "│●  ●│\n",
      "│      │\n",
      "│●  ●│\n",
      "└───┘\n",
      "\n",
      "┌───┐\n",
      "│●  ●│\n",
      "│  ●  │\n",
      "│●  ●│\n",
      "└───┘\n",
      "\n",
      "┌───┐\n",
      "│●  ●│\n",
      "│●  ●│\n",
      "│●  ●│\n",
      "└───┘\n",
      "\n"
     ]
    }
   ],
   "source": [
    "for i in range(6):\n",
    "    print(dice[i])"
   ]
  },
  {
   "cell_type": "markdown",
   "metadata": {},
   "source": [
    "#### 方法2"
   ]
  },
  {
   "cell_type": "code",
   "execution_count": 5,
   "metadata": {
    "collapsed": false
   },
   "outputs": [
    {
     "data": {
      "text/plain": [
       "['┌───┐',\n",
       " '┌───┐',\n",
       " '┌───┐',\n",
       " '┌───┐',\n",
       " '┌───┐',\n",
       " '┌───┐',\n",
       " '│      │',\n",
       " '│  ●  │',\n",
       " '│●    │',\n",
       " '│●  ●│',\n",
       " '│●  ●│',\n",
       " '│●  ●│',\n",
       " '│  ●  │',\n",
       " '│      │',\n",
       " '│  ●  │',\n",
       " '│      │',\n",
       " '│  ●  │',\n",
       " '│●  ●│',\n",
       " '│      │',\n",
       " '│  ●  │',\n",
       " '│    ●│',\n",
       " '│●  ●│',\n",
       " '│●  ●│',\n",
       " '│●  ●│',\n",
       " '└───┘',\n",
       " '└───┘',\n",
       " '└───┘',\n",
       " '└───┘',\n",
       " '└───┘',\n",
       " '└───┘']"
      ]
     },
     "execution_count": 5,
     "metadata": {},
     "output_type": "execute_result"
    }
   ],
   "source": [
    "dice_parts = []\n",
    "for dice_line in dice_lines:\n",
    "    dice_parts.extend(dice_line.split(','))\n",
    "dice_parts"
   ]
  },
  {
   "cell_type": "code",
   "execution_count": 6,
   "metadata": {
    "collapsed": false
   },
   "outputs": [],
   "source": [
    "#补充完整下面的代码\n",
    "dice = ['','','','','','']\n",
    "for i in range(6):\n",
    "    dice[i] = '\\n'.join(dice_parts[i::6])"
   ]
  },
  {
   "cell_type": "code",
   "execution_count": 10,
   "metadata": {
    "collapsed": false,
    "scrolled": true
   },
   "outputs": [
    {
     "name": "stdout",
     "output_type": "stream",
     "text": [
      "┌───┐\n",
      "│      │\n",
      "│  ●  │\n",
      "│      │\n",
      "└───┘\n",
      "┌───┐\n",
      "│  ●  │\n",
      "│      │\n",
      "│  ●  │\n",
      "└───┘\n",
      "┌───┐\n",
      "│●    │\n",
      "│  ●  │\n",
      "│    ●│\n",
      "└───┘\n",
      "┌───┐\n",
      "│●  ●│\n",
      "│      │\n",
      "│●  ●│\n",
      "└───┘\n",
      "┌───┐\n",
      "│●  ●│\n",
      "│  ●  │\n",
      "│●  ●│\n",
      "└───┘\n",
      "┌───┐\n",
      "│●  ●│\n",
      "│●  ●│\n",
      "│●  ●│\n",
      "└───┘\n"
     ]
    }
   ],
   "source": [
    "for i in range(6):\n",
    "    print(dice[i])"
   ]
  },
  {
   "cell_type": "markdown",
   "metadata": {},
   "source": [
    "##### 2.第二步，完成猜大小游戏\n",
    "规则如下：    \n",
    "　　投掷3个骰子，如果3个骰子之和小于等于10为小，大于10为大  \n",
    "步骤分解： \n",
    "* 请用户输入大或小（用0,1代替）\n",
    "* 投掷3个骰子，使用random库中的randint函数生成骰点大小，并依次输出骰点\n",
    "* 计算骰点大小，判断用户输赢，并给出结果\n",
    "\n",
    "**根据上面的步骤完成代码**"
   ]
  },
  {
   "cell_type": "code",
   "execution_count": 36,
   "metadata": {
    "collapsed": false,
    "scrolled": true
   },
   "outputs": [
    {
     "name": "stdout",
     "output_type": "stream",
     "text": [
      "请选择猜大还是猜小(小：0， 大：1）：0\n",
      "庄家将三枚玉骰往银盘中一撒。\n",
      "┌───┐\n",
      "│      │\n",
      "│  ●  │\n",
      "│      │\n",
      "└───┘\n",
      "┌───┐\n",
      "│●  ●│\n",
      "│      │\n",
      "│●  ●│\n",
      "└───┘\n",
      "┌───┐\n",
      "│●    │\n",
      "│  ●  │\n",
      "│    ●│\n",
      "└───┘\n",
      "庄家叫道：8 ---> 小，恭喜你，你答对了！！！\n"
     ]
    }
   ],
   "source": [
    "#根据上面的步骤完成代码\n",
    "import random\n",
    "ans_desc = ['小','大']\n",
    "ans = int(input(\"请选择猜大还是猜小(小：0， 大：1）：\"))\n",
    "print(\"庄家将三枚玉骰往银盘中一撒。\")\n",
    "res = []\n",
    "for i in range(3):\n",
    "    value = random.randint(1,6)\n",
    "    print(dice[value-1])\n",
    "    res.append(value)\n",
    "    \n",
    "sumvalue = sum(res)\n",
    "correct_ans = 0 if sumvalue <= 10 else 1\n",
    "print('庄家叫道：%d ---> %s，' % (sumvalue, ans_desc[correct_ans]), end='')\n",
    "if (ans == correct_ans):\n",
    "    print('恭喜你，你答对了！！！')\n",
    "else:\n",
    "    print('你答错了！')"
   ]
  },
  {
   "cell_type": "markdown",
   "metadata": {},
   "source": [
    "#### 二、设计并完成班级点名程序"
   ]
  },
  {
   "cell_type": "markdown",
   "metadata": {},
   "source": [
    "##### 1.预备知识，学习如何读写点名册文件"
   ]
  },
  {
   "cell_type": "code",
   "execution_count": 37,
   "metadata": {
    "collapsed": false
   },
   "outputs": [],
   "source": [
    "fp = open('students.txt', 'rt', encoding='utf-8')"
   ]
  },
  {
   "cell_type": "code",
   "execution_count": 38,
   "metadata": {
    "collapsed": true
   },
   "outputs": [
    {
     "name": "stdout",
     "output_type": "stream",
     "text": [
      "Help on TextIOWrapper object:\n",
      "\n",
      "class TextIOWrapper(_TextIOBase)\n",
      " |  Character and line based layer over a BufferedIOBase object, buffer.\n",
      " |  \n",
      " |  encoding gives the name of the encoding that the stream will be\n",
      " |  decoded or encoded with. It defaults to locale.getpreferredencoding(False).\n",
      " |  \n",
      " |  errors determines the strictness of encoding and decoding (see\n",
      " |  help(codecs.Codec) or the documentation for codecs.register) and\n",
      " |  defaults to \"strict\".\n",
      " |  \n",
      " |  newline controls how line endings are handled. It can be None, '',\n",
      " |  '\\n', '\\r', and '\\r\\n'.  It works as follows:\n",
      " |  \n",
      " |  * On input, if newline is None, universal newlines mode is\n",
      " |    enabled. Lines in the input can end in '\\n', '\\r', or '\\r\\n', and\n",
      " |    these are translated into '\\n' before being returned to the\n",
      " |    caller. If it is '', universal newline mode is enabled, but line\n",
      " |    endings are returned to the caller untranslated. If it has any of\n",
      " |    the other legal values, input lines are only terminated by the given\n",
      " |    string, and the line ending is returned to the caller untranslated.\n",
      " |  \n",
      " |  * On output, if newline is None, any '\\n' characters written are\n",
      " |    translated to the system default line separator, os.linesep. If\n",
      " |    newline is '' or '\\n', no translation takes place. If newline is any\n",
      " |    of the other legal values, any '\\n' characters written are translated\n",
      " |    to the given string.\n",
      " |  \n",
      " |  If line_buffering is True, a call to flush is implied when a call to\n",
      " |  write contains a newline character.\n",
      " |  \n",
      " |  Method resolution order:\n",
      " |      TextIOWrapper\n",
      " |      _TextIOBase\n",
      " |      _IOBase\n",
      " |      builtins.object\n",
      " |  \n",
      " |  Methods defined here:\n",
      " |  \n",
      " |  __getstate__(...)\n",
      " |  \n",
      " |  __init__(self, /, *args, **kwargs)\n",
      " |      Initialize self.  See help(type(self)) for accurate signature.\n",
      " |  \n",
      " |  __new__(*args, **kwargs) from builtins.type\n",
      " |      Create and return a new object.  See help(type) for accurate signature.\n",
      " |  \n",
      " |  __next__(self, /)\n",
      " |      Implement next(self).\n",
      " |  \n",
      " |  __repr__(self, /)\n",
      " |      Return repr(self).\n",
      " |  \n",
      " |  close(self, /)\n",
      " |      Flush and close the IO object.\n",
      " |      \n",
      " |      This method has no effect if the file is already closed.\n",
      " |  \n",
      " |  detach(self, /)\n",
      " |      Separate the underlying buffer from the TextIOBase and return it.\n",
      " |      \n",
      " |      After the underlying buffer has been detached, the TextIO is in an\n",
      " |      unusable state.\n",
      " |  \n",
      " |  fileno(self, /)\n",
      " |      Returns underlying file descriptor if one exists.\n",
      " |      \n",
      " |      OSError is raised if the IO object does not use a file descriptor.\n",
      " |  \n",
      " |  flush(self, /)\n",
      " |      Flush write buffers, if applicable.\n",
      " |      \n",
      " |      This is not implemented for read-only and non-blocking streams.\n",
      " |  \n",
      " |  isatty(self, /)\n",
      " |      Return whether this is an 'interactive' stream.\n",
      " |      \n",
      " |      Return False if it can't be determined.\n",
      " |  \n",
      " |  read(self, size=-1, /)\n",
      " |      Read at most n characters from stream.\n",
      " |      \n",
      " |      Read from underlying buffer until we have n characters or we hit EOF.\n",
      " |      If n is negative or omitted, read until EOF.\n",
      " |  \n",
      " |  readable(self, /)\n",
      " |      Return whether object was opened for reading.\n",
      " |      \n",
      " |      If False, read() will raise OSError.\n",
      " |  \n",
      " |  readline(self, size=-1, /)\n",
      " |      Read until newline or EOF.\n",
      " |      \n",
      " |      Returns an empty string if EOF is hit immediately.\n",
      " |  \n",
      " |  seek(self, cookie, whence=0, /)\n",
      " |      Change stream position.\n",
      " |      \n",
      " |      Change the stream position to the given byte offset. The offset is\n",
      " |      interpreted relative to the position indicated by whence.  Values\n",
      " |      for whence are:\n",
      " |      \n",
      " |      * 0 -- start of stream (the default); offset should be zero or positive\n",
      " |      * 1 -- current stream position; offset may be negative\n",
      " |      * 2 -- end of stream; offset is usually negative\n",
      " |      \n",
      " |      Return the new absolute position.\n",
      " |  \n",
      " |  seekable(self, /)\n",
      " |      Return whether object supports random access.\n",
      " |      \n",
      " |      If False, seek(), tell() and truncate() will raise OSError.\n",
      " |      This method may need to do a test seek().\n",
      " |  \n",
      " |  tell(self, /)\n",
      " |      Return current stream position.\n",
      " |  \n",
      " |  truncate(self, pos=None, /)\n",
      " |      Truncate file to size bytes.\n",
      " |      \n",
      " |      File pointer is left unchanged.  Size defaults to the current IO\n",
      " |      position as reported by tell().  Returns the new size.\n",
      " |  \n",
      " |  writable(self, /)\n",
      " |      Return whether object was opened for writing.\n",
      " |      \n",
      " |      If False, write() will raise OSError.\n",
      " |  \n",
      " |  write(self, text, /)\n",
      " |      Write string to stream.\n",
      " |      Returns the number of characters written (which is always equal to\n",
      " |      the length of the string).\n",
      " |  \n",
      " |  ----------------------------------------------------------------------\n",
      " |  Data descriptors defined here:\n",
      " |  \n",
      " |  buffer\n",
      " |  \n",
      " |  closed\n",
      " |  \n",
      " |  encoding\n",
      " |      Encoding of the text stream.\n",
      " |      \n",
      " |      Subclasses should override.\n",
      " |  \n",
      " |  errors\n",
      " |      The error setting of the decoder or encoder.\n",
      " |      \n",
      " |      Subclasses should override.\n",
      " |  \n",
      " |  line_buffering\n",
      " |  \n",
      " |  name\n",
      " |  \n",
      " |  newlines\n",
      " |      Line endings translated so far.\n",
      " |      \n",
      " |      Only line endings translated during reading are considered.\n",
      " |      \n",
      " |      Subclasses should override.\n",
      " |  \n",
      " |  ----------------------------------------------------------------------\n",
      " |  Methods inherited from _IOBase:\n",
      " |  \n",
      " |  __del__(...)\n",
      " |  \n",
      " |  __enter__(...)\n",
      " |  \n",
      " |  __exit__(...)\n",
      " |  \n",
      " |  __iter__(self, /)\n",
      " |      Implement iter(self).\n",
      " |  \n",
      " |  readlines(self, hint=-1, /)\n",
      " |      Return a list of lines from the stream.\n",
      " |      \n",
      " |      hint can be specified to control the number of lines read: no more\n",
      " |      lines will be read if the total size (in bytes/characters) of all\n",
      " |      lines so far exceeds hint.\n",
      " |  \n",
      " |  writelines(self, lines, /)\n",
      " |  \n",
      " |  ----------------------------------------------------------------------\n",
      " |  Data descriptors inherited from _IOBase:\n",
      " |  \n",
      " |  __dict__\n",
      "\n"
     ]
    }
   ],
   "source": [
    "# 通过help熟悉fp对象的操作函数\n",
    "help(fp)"
   ]
  },
  {
   "cell_type": "code",
   "execution_count": 39,
   "metadata": {
    "collapsed": false,
    "scrolled": true
   },
   "outputs": [
    {
     "data": {
      "text/plain": [
       "['16272101,戴心怡\\n',\n",
       " '16272111,陈钊宇\\n',\n",
       " '16272121,李改顺\\n',\n",
       " '16272131,王凯帆\\n',\n",
       " '16272201,高天洋\\n',\n",
       " '16272211,陈乐聪\\n',\n",
       " '16272221,李家欣\\n',\n",
       " '16272231,吴正鑫\\n']"
      ]
     },
     "execution_count": 39,
     "metadata": {},
     "output_type": "execute_result"
    }
   ],
   "source": [
    "#查看文件中的所有行\n",
    "content = fp.readlines()\n",
    "content"
   ]
  },
  {
   "cell_type": "code",
   "execution_count": 40,
   "metadata": {
    "collapsed": true
   },
   "outputs": [],
   "source": [
    "fp.close()"
   ]
  },
  {
   "cell_type": "code",
   "execution_count": 41,
   "metadata": {
    "collapsed": true
   },
   "outputs": [],
   "source": [
    "idnums = []\n",
    "names = []\n",
    "for line in content:\n",
    "    items = line.strip().split(',')\n",
    "    idnums.append(items[0])\n",
    "    names.append(items[1])"
   ]
  },
  {
   "cell_type": "code",
   "execution_count": 42,
   "metadata": {
    "collapsed": false
   },
   "outputs": [
    {
     "name": "stdout",
     "output_type": "stream",
     "text": [
      "['16272101', '16272111', '16272121', '16272131', '16272201', '16272211', '16272221', '16272231'] ['戴心怡', '陈钊宇', '李改顺', '王凯帆', '高天洋', '陈乐聪', '李家欣', '吴正鑫']\n"
     ]
    }
   ],
   "source": [
    "print(idnums, names)"
   ]
  },
  {
   "cell_type": "code",
   "execution_count": 43,
   "metadata": {
    "collapsed": false,
    "scrolled": false
   },
   "outputs": [
    {
     "data": {
      "text/plain": [
       "[1, 1, 1, 1, 1, 1, 1, 1]"
      ]
     },
     "execution_count": 43,
     "metadata": {},
     "output_type": "execute_result"
    }
   ],
   "source": [
    "# attendance 存放考勤数据,填写考勤数据\n",
    "attendances = [1] * len(idnums)    # 假设填写所有人都到了\n",
    "attendances"
   ]
  },
  {
   "cell_type": "code",
   "execution_count": 44,
   "metadata": {
    "collapsed": false,
    "scrolled": false
   },
   "outputs": [
    {
     "data": {
      "text/plain": [
       "'attendance_2016-11-29.txt'"
      ]
     },
     "execution_count": 44,
     "metadata": {},
     "output_type": "execute_result"
    }
   ],
   "source": [
    "#构造考勤数据文件名\n",
    "from datetime import datetime\n",
    "fname = datetime.now().strftime('attendance_%Y-%m-%d.txt')\n",
    "fname"
   ]
  },
  {
   "cell_type": "code",
   "execution_count": 45,
   "metadata": {
    "collapsed": false
   },
   "outputs": [],
   "source": [
    "#写入考勤数据到文件，执行完成后，查看写入的文件\n",
    "fp = open(fname, 'wt', encoding='utf-8')\n",
    "for idnum,name,attendance in zip(idnums, names, attendances):\n",
    "    line = \"%s,%s,%d\" % (idnum, name, attendance)\n",
    "    print(line, file=fp)\n",
    "fp.close()"
   ]
  },
  {
   "cell_type": "markdown",
   "metadata": {},
   "source": [
    "##### 2.根据前面所学的知识，完成点名程序\n",
    "* 打开学生名单文件，读入学号和姓名列表\n",
    "* 提示用户输入每一个学生（显示学号和姓名）的考勤情况，0表示缺勤，1表示到课\n",
    "* 将考勤数据写入考勤文件\n",
    "\n",
    "**根据上面的步骤完成代码**"
   ]
  },
  {
   "cell_type": "code",
   "execution_count": 48,
   "metadata": {
    "collapsed": false
   },
   "outputs": [
    {
     "name": "stdout",
     "output_type": "stream",
     "text": [
      "请输入到课情况，到课请输入1，未到请输入0\n",
      "学号:16272101    姓名：戴心怡   到课情况：1\n",
      "学号:16272111    姓名：陈钊宇   到课情况：1\n",
      "学号:16272121    姓名：李改顺   到课情况：0\n",
      "学号:16272131    姓名：王凯帆   到课情况：1\n",
      "学号:16272201    姓名：高天洋   到课情况：0\n",
      "学号:16272211    姓名：陈乐聪   到课情况：1\n",
      "学号:16272221    姓名：李家欣   到课情况：1\n",
      "学号:16272231    姓名：吴正鑫   到课情况：1\n"
     ]
    }
   ],
   "source": [
    "#根据上面的步骤完成代码\n",
    "fp = open('students.txt', 'rt', encoding='utf-8')\n",
    "content = fp.readlines()\n",
    "fp.close()\n",
    "\n",
    "idnums = []\n",
    "names = []\n",
    "for line in content:\n",
    "    items = line.strip().split(',')\n",
    "    idnums.append(items[0])\n",
    "    names.append(items[1])\n",
    "    \n",
    "# attendance 存放考勤数据,填写考勤数据\n",
    "attendances = [0] * len(idnums)    # 假设填写所有人都没到\n",
    "\n",
    "print(\"请输入到课情况，到课请输入1，未到请输入0\")\n",
    "for i in range(len(idnums)):\n",
    "    ans = input(\"学号:%s    姓名：%s   到课情况：\" % (idnums[i], names[i]))\n",
    "    attendances[i] = int(ans)\n",
    "\n",
    "#构造考勤数据文件名\n",
    "from datetime import datetime\n",
    "fname = datetime.now().strftime('attendance_%Y-%m-%d.txt')\n",
    "\n",
    "#写入考勤数据到文件，执行完成后，查看写入的文件\n",
    "fp = open(fname, 'wt', encoding='utf-8')\n",
    "for idnum,name,attendance in zip(idnums, names, attendances):\n",
    "    line = \"%s,%s,%d\" % (idnum, name, attendance)\n",
    "    print(line, file=fp)\n",
    "fp.close()"
   ]
  },
  {
   "cell_type": "markdown",
   "metadata": {},
   "source": [
    "##### 3.在上面的基础上，完善点名程序\n",
    "问题描述：上面的程序只能一次完成点名的录入，如果输入的数据有问题，或者缺勤的人迟到了，没有办法修改考勤数据，只能重新录入；另外增加到统计数据，最后一行显示总人数，到课人数，迟到人数，缺勤人数。\n",
    "要求：增加考勤数据的修改（增加考勤情况描述：0缺勤，1到课，2迟到）\n",
    "* 打开当日的考勤数据，读入学号、姓名列表和考勤情况\n",
    "* 提示用户输入要修改考勤的学生学号，查找到该学生的考勤数据\n",
    "* 显示该学生的考勤数据，并提示用户是否要修改该数据\n",
    "* 如果用户确认，则提示用户输入修改数据\n",
    "* 将修改后的考勤数据写入考勤文件\n",
    "* 记着增加最后一行，显示总人数，到课人数，迟到人数，缺勤人数。\n",
    "\n",
    "**根据上面的步骤完成代码**"
   ]
  },
  {
   "cell_type": "code",
   "execution_count": 57,
   "metadata": {
    "collapsed": false,
    "scrolled": true
   },
   "outputs": [
    {
     "name": "stdout",
     "output_type": "stream",
     "text": [
      "请输入你要修改考勤的学生学号：16272111\n",
      "学号:16272111    姓名：陈钊宇   到课情况(到课请输入1，未到请输入0,迟到请输入2)：0\n",
      "你还要继续修改吗(是输入y，否输入n）？n\n",
      "# 总人数:8    到课人数:6   迟到人数:0    缺勤人数:2\n"
     ]
    }
   ],
   "source": [
    "#根据上面的步骤完成代码\n",
    "#构造考勤数据文件名\n",
    "from datetime import datetime\n",
    "fname = datetime.now().strftime('attendance_%Y-%m-%d.txt')\n",
    "\n",
    "fp = open(fname, 'rt', encoding='utf-8')\n",
    "content = fp.readlines()\n",
    "fp.close()\n",
    "\n",
    "idnums = []\n",
    "names = []\n",
    "attendances = []\n",
    "for line in content:\n",
    "    if not line.startswith('#'):\n",
    "        items = line.strip().split(',')\n",
    "        idnums.append(items[0])\n",
    "        names.append(items[1])\n",
    "        attendances.append(int(items[2]))\n",
    "        \n",
    "while True:\n",
    "    ans = input(\"请输入你要修改考勤的学生学号：\")\n",
    "    if ans in idnums:\n",
    "        i = idnums.index(ans)\n",
    "        ans = input(\"学号:%s    姓名：%s   到课情况(到课请输入1，未到请输入0,迟到请输入2)：\" % (idnums[i], names[i]))\n",
    "        attendances[i] = int(ans)\n",
    "    else:\n",
    "        print('找不到该学生!')\n",
    "    ans = input(\"你还要继续修改吗(是输入y，否输入n）？\")\n",
    "    if ans.lower() == 'n':\n",
    "        break\n",
    "\n",
    "#写入考勤数据到文件，执行完成后，查看写入的文件\n",
    "fp = open(fname, 'wt', encoding='utf-8')\n",
    "for idnum,name,attendance in zip(idnums, names, attendances):\n",
    "    line = \"%s,%s,%d\" % (idnum, name, attendance)\n",
    "    print(line, file=fp)\n",
    "\n",
    "line = \"# 总人数:%d    到课人数:%d   迟到人数:%d    缺勤人数:%d\" % (len(idnums), attendances.count(1), attendances.count(2), attendances.count(0))\n",
    "print(line)\n",
    "print(line, file=fp)\n",
    "fp.close()\n"
   ]
  }
 ],
 "metadata": {
  "anaconda-cloud": {},
  "kernelspec": {
   "display_name": "Python [default]",
   "language": "python",
   "name": "python3"
  },
  "language_info": {
   "codemirror_mode": {
    "name": "ipython",
    "version": 3
   },
   "file_extension": ".py",
   "mimetype": "text/x-python",
   "name": "python",
   "nbconvert_exporter": "python",
   "pygments_lexer": "ipython3",
   "version": "3.5.2"
  }
 },
 "nbformat": 4,
 "nbformat_minor": 0
}
